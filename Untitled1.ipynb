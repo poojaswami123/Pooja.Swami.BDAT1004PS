{
 "cells": [
  {
   "cell_type": "markdown",
   "id": "ae9922c9-9311-44b7-8c7e-de48cb50e27f",
   "metadata": {},
   "source": [
    "### 1) What data type is each of the following (evaluate where necessary)?\r"
   ]
  },
  {
   "cell_type": "code",
   "execution_count": null,
   "id": "d6653ecf-29f8-4471-a882-8107216ce2fb",
   "metadata": {},
   "outputs": [],
   "source": [
    "5 - Integer\n",
    "5.0 - Float\n",
    "5 > 1 - Boolean\n",
    "'5' - String\n",
    "5 * 2 - Integer\n",
    "'5' * 2 - String\n",
    "'5' + '2' - String\n",
    "5 / 2 - Float\n",
    "5 % 2 - Integer\n",
    "{5, 2, 1} - Set\n",
    "5 == 3 - Boolean\n",
    "Pi (the number) -float or a double.\n",
    "\n",
    "\n"
   ]
  },
  {
   "cell_type": "markdown",
   "id": "810ef3cf-1ef8-47fd-8c89-9093d4c1f230",
   "metadata": {},
   "source": [
    "### 2) Write (and evaluate) python expressions that answer these questions:\r",
    "<br>\n",
    "a. How many letters are there in 'Supercalifragilisticexpialidocious'<br>?<br>\r\n",
    "b. Does 'Supercalifragilisticexpialidocious' contain 'ice' as a substring<br>\n",
    "<br>c. Which of the following words is the longest:\r\n",
    "Supercalifragilisticexpialidocious, Honorificabilitudinitatibus, or\r\n",
    "Bababadalgharaghtakamminarronnkon<br>n<br>?\r\n",
    "d. Which composer comes first in the dictionary: 'Berlioz', 'Borodin', 'Brian',\r\n",
    "'Bartok', 'Bellini', 'Buxtehude', 'Bernstein'. Which one comes last?? "
   ]
  },
  {
   "cell_type": "code",
   "execution_count": 2,
   "id": "95cf171c-dbee-4e9c-b5f3-7cca91c9343c",
   "metadata": {},
   "outputs": [
    {
     "name": "stdout",
     "output_type": "stream",
     "text": [
      "34\n"
     ]
    }
   ],
   "source": [
    "word = 'Supercalifragilisticexpialidocious'\n",
    "num_letters = len(word)\n",
    "print(num_letters)\n"
   ]
  },
  {
   "cell_type": "code",
   "execution_count": 3,
   "id": "6d36897a-3631-437f-b716-255c13e1e452",
   "metadata": {},
   "outputs": [
    {
     "name": "stdout",
     "output_type": "stream",
     "text": [
      "True\n"
     ]
    }
   ],
   "source": [
    "word = 'Supercalifragilisticexpialidocious'\n",
    "contains_ice = 'ice' in word\n",
    "print(contains_ice)\n"
   ]
  },
  {
   "cell_type": "code",
   "execution_count": 5,
   "id": "1def61cb-e97c-42e3-bf16-ed988e8740bb",
   "metadata": {},
   "outputs": [
    {
     "name": "stdout",
     "output_type": "stream",
     "text": [
      "Supercalifragilisticexpialidocious\n"
     ]
    }
   ],
   "source": [
    "words = ['Supercalifragilisticexpialidocious', 'Honorificabilitudinitatibus', 'Bababadalgharaghtakamminarronnkonn']\n",
    "longest_word = max(words, key=len)\n",
    "print(longest_word)\n"
   ]
  },
  {
   "cell_type": "code",
   "execution_count": 4,
   "id": "11e4cb6a-760b-4965-b472-607bdfee4bc5",
   "metadata": {},
   "outputs": [
    {
     "name": "stdout",
     "output_type": "stream",
     "text": [
      "First composer: Bartok\n",
      "Last composer: Buxtehude\n"
     ]
    }
   ],
   "source": [
    "composers = ['Berlioz', 'Borodin', 'Brian', 'Bartok', 'Bellini', 'Buxtehude', 'Bernstein']\n",
    "first_composer = min(composers)\n",
    "last_composer = max(composers)\n",
    "print(\"First composer:\", first_composer)\n",
    "print(\"Last composer:\", last_composer)\n"
   ]
  },
  {
   "cell_type": "markdown",
   "id": "534faaf1-1962-45f0-ba59-c3c837e9ad7e",
   "metadata": {},
   "source": [
    "### 3) Implement function triangleArea(a,b,c) that takes as input the lengths of the 3\r\n",
    "sides of a triangle and returns the area of the triangle. By Heron's formula, the area\r\n",
    "of a triangle with side lengths a, b, and c is\r\n",
    "s(s - a)(s -b)(s -c)\r\n",
    ", where\r\n",
    "s = (a+b+c)/2.\r\n",
    ">>> triangleArea(2,2,2)\r\n",
    "1.7320508075688772\r"
   ]
  },
  {
   "cell_type": "code",
   "execution_count": 6,
   "id": "8ec05857-8e71-42c4-b44a-44ba7503d8a5",
   "metadata": {},
   "outputs": [
    {
     "name": "stdout",
     "output_type": "stream",
     "text": [
      "1.7320508075688772\n"
     ]
    }
   ],
   "source": [
    "import math\n",
    "\n",
    "def triangleArea(a, b, c):\n",
    "s = (a + b + c) / 2\n",
    "area = math.sqrt(s * (s - a) * (s - b) * (s - c))\n",
    "return area\n",
    "\n",
    "print(triangleArea(2, 2, 2))  \n"
   ]
  },
  {
   "cell_type": "markdown",
   "id": "97548d4b-cfa0-4b32-b6af-cf1cd127866d",
   "metadata": {},
   "source": [
    "### 4) Write a program in python to separate odd and even integers in separate arrays. Go\r\n",
    "to the editor\r\n",
    "Test Data :\r\n",
    "Input the number of elements to be stored in the array :5\r\n",
    "Input 5 elements in the array :\r\n",
    "element - 0 : 25\r\n",
    "element - 1 : 47\r\n",
    "element - 2 : 42\r\n",
    "element - 3 : 56\r\n",
    "element - 4 : 32\r\n",
    "Expected Output:\r\n",
    "The Even elements are:\r\n",
    "42 56 32\r\n",
    "The Odd elements are :\r\n",
    "25 47"
   ]
  },
  {
   "cell_type": "code",
   "execution_count": 9,
   "id": "31325f4a-14e7-45dc-924f-ad8fbc22e9f0",
   "metadata": {},
   "outputs": [
    {
     "name": "stdin",
     "output_type": "stream",
     "text": [
      "Input the number of elements to be stored in the array:  4\n",
      "Element - 0:  25\n",
      "Element - 1:  22\n",
      "Element - 2:  4\n",
      "Element - 3:  90\n"
     ]
    },
    {
     "name": "stdout",
     "output_type": "stream",
     "text": [
      "The Even elements are:\n",
      "22 4 90\n",
      "The Odd elements are:\n",
      "25\n"
     ]
    }
   ],
   "source": [
    "def separate_odd_even(numbers):\n",
    "    even = []\n",
    "    odd = []\n",
    "    for num in numbers:\n",
    "        if num % 2 == 0:\n",
    "            even.append(num)\n",
    "        else:\n",
    "            odd.append(num)\n",
    "    return even, odd\n",
    "\n",
    "num_elements = int(input(\"Input the number of elements to be stored in the array: \"))\n",
    "array = []\n",
    "for i in range(num_elements):\n",
    "    array.append(int(input(f\"Element - {i}: \")))\n",
    "\n",
    "even_elements, odd_elements = separate_odd_even(array)\n",
    "\n",
    "print(\"The Even elements are:\")\n",
    "print(\" \".join(map(str, even_elements)))\n",
    "print(\"The Odd elements are:\")\n",
    "print(\" \".join(map(str, odd_elements)))\n"
   ]
  },
  {
   "cell_type": "markdown",
   "id": "22ed9e81-4160-4eac-b621-5113f73e1f21",
   "metadata": {},
   "source": [
    "### 5) a. Write a function inside(x,y,x1,y1,x2,y2) that returns True or False\r\n",
    "depending on whether the point (x,y) lies in the rectangle with lower left\r\n",
    "corner (x1,y1) and upper right corner (x2,y2).\r\n",
    ">>> inside(1,1,0,0,2,3)\r\n",
    "True\r\n",
    ">>> inside(-1,-1,0,0,2,3)\r\n",
    "False\r\n",
    "b. Use function inside() from part a. to write an expression that tests whether\r\n",
    "the point (1,1) lies in both of the following rectangles: one with lower left\r\n",
    "corner (0.3, 0.5) and upper right corner (1.1, 0.7) and the other with lower\r\n",
    "left corner (0.5, 0.2) and upper right corner (1.1, 2).  "
   ]
  },
  {
   "cell_type": "code",
   "execution_count": 10,
   "id": "9f07bb1f-d841-4f80-b223-178793734ef5",
   "metadata": {},
   "outputs": [
    {
     "name": "stdout",
     "output_type": "stream",
     "text": [
      "False\n"
     ]
    }
   ],
   "source": [
    "def inside(x, y, x1, y1, x2, y2):\n",
    "    return x1 <= x <= x2 and y1 <= y <= y2\n",
    "\n",
    "rectangle1_result = inside(1, 1, 0.3, 0.5, 1.1, 0.7)\n",
    "rectangle2_result = inside(1, 1, 0.5, 0.2, 1.1, 2)\n",
    "\n",
    "point_in_both_rectangles = rectangle1_result and rectangle2_result\n",
    "\n",
    "print(point_in_both_rectangles)\n"
   ]
  },
  {
   "cell_type": "markdown",
   "id": "9eec15b3-704c-473a-8eed-21b485328042",
   "metadata": {},
   "source": [
    "### 6)  You can turn a word into pig-Latin using the following two rules (simplified):\r\n",
    "• If the word starts with a consonant, move that letter to the end and append\r\n",
    "'ay'. For example, 'happy' becomes 'appyhay' and 'pencil' becomes 'encilpay'.\r\n",
    "• If the word starts with a vowel, simply append 'way' to the end of the word.\r\n",
    "For example, 'enter' becomes 'enterway' and 'other' becomes 'otherway' . For\r\n",
    "our purposes, there are 5 vowels: a, e, i, o, u (so we count y as a consonant).\r\n",
    "Write a function pig() that takes a word (i.e., a string) as input and returns its pigLatin form. Your function should still work if the input word contains upper case\r\n",
    "characters. Your output should always be lower case however.\r\n",
    ">>> pig('happy')\r\n",
    "'appyhay'\r\n",
    ">>> pig('Enter')\r\n",
    "'enterway' "
   ]
  },
  {
   "cell_type": "code",
   "execution_count": 11,
   "id": "021eacf6-0fc4-45ee-a95e-07e086daadfb",
   "metadata": {},
   "outputs": [
    {
     "name": "stdout",
     "output_type": "stream",
     "text": [
      "appyhay\n",
      "enterway\n"
     ]
    }
   ],
   "source": [
    "def pig(word):\n",
    "    vowels = ['a', 'e', 'i', 'o', 'u']\n",
    "    word_lower = word.lower()\n",
    "    if word_lower[0] in vowels:\n",
    "        return word_lower + 'way'\n",
    "    else:\n",
    "        return word_lower[1:] + word_lower[0] + 'ay'\n",
    "\n",
    "print(pig('happy'))  \n",
    "print(pig('Enter'))  \n"
   ]
  },
  {
   "cell_type": "markdown",
   "id": "3d02474b-2ae3-4ec6-9bb6-97c4f1f9cec7",
   "metadata": {},
   "source": [
    "### 7) File bloodtype1.txt records blood-types of patients (A, B, AB, O or OO) at a clinic.\r\n",
    "Write a function bldcount() that reads the file with name name and reports (i.e.,\r\n",
    "prints) how many patients there are in each bloodtype.\r\n",
    ">>> bldcount('bloodtype.txt')\r\n",
    "There are 10 patients of blood type A.\r\n",
    "There is one patient of blood type B.\r\n",
    "There are 10 patients of blood type AB.\r\n",
    "There are 12 patients of blood type O.\r\n",
    "There are no patients of blood type OO.\r"
   ]
  },
  {
   "cell_type": "code",
   "execution_count": 26,
   "id": "baccb669-82f1-44bb-81ca-c4a06acf979a",
   "metadata": {},
   "outputs": [
    {
     "name": "stdout",
     "output_type": "stream",
     "text": [
      "File 'bloodtype.txt' not found.\n"
     ]
    }
   ],
   "source": [
    "def bldcount(filename):\n",
    "    blood_type_count = {'A': 0, 'B': 0, 'AB': 0, 'O': 0, 'OO': 0}\n",
    "    \n",
    "    try:\n",
    "        with open(filename, 'r') as file:\n",
    "            for line in file:\n",
    "                blood_type = line.strip()\n",
    "                blood_type_count[blood_type] += 1\n",
    "    except FileNotFoundError:\n",
    "        print(f\"File '{filename}' not found.\")\n",
    "        return\n",
    "\n",
    "    for blood_type, count in blood_type_count.items():\n",
    "        if count == 1:\n",
    "            print(f\"There is one patient of blood type {blood_type}.\")\n",
    "        elif count > 1:\n",
    "            print(f\"There are {count} patients of blood type {blood_type}.\")\n",
    "        else:\n",
    "            print(f\"There are no patients of blood type {blood_type}.\")\n",
    "\n",
    "\n",
    "bldcount('bloodtype.txt')\n",
    "\n",
    "\n",
    "\n"
   ]
  },
  {
   "cell_type": "markdown",
   "id": "1e63ac02-30b2-46a4-8b2f-c21a2a1cea50",
   "metadata": {},
   "source": [
    "### 8) Write a function curconv() that takes as input:\r\n",
    "\n",
    "1. a currency represented using a string (e.g., 'JPY' for the Japanese Yen or\r\n",
    "'EUR' for the Euro)\r\n",
    "2. an amount\r\n",
    "and then converts and returns the amount in US dolla-\r\n",
    ">>> curconv('EUR', 100)\r\n",
    "122.-44\r\n",
    ">>> curconv('JPY', 100)\r\n",
    "\n",
    ".241401\r\n",
    "The currency rates you will need are stored in file currencies.txt:\r\n",
    "AUD 1.0345157 Australian Dollar\r\n",
    "CHF 1.0237414 Swiss Franc\r\n",
    "CNY 0.1550176 Chinese Yuan\n",
    "DKK 0.1651442 Danish Krone\r\n",
    "EUR 1.2296544 Euro\n",
    "GBP 1.5550989 British Pound\r\n",
    "HKD 0.1270207 Hong Kong Dollar\r\n",
    "INR 0.0177643 Indian Rupee\r\n",
    "JPY 0.01241401 Japanese Yen\r\n",
    "MXN 0.0751848 Mexican Peso\r\n",
    "MYR 0.3145411 Malaysian Ringgit\r\n",
    "NOK 0.1677063 Norwegian Krone\r\n",
    "NZD 0.8003591 New Zealand Dollar\r\n",
    "PHP 0.0233234 Philippine Peso\r\n",
    "SEK 0.148269 Swedish Krona\r\n",
    "SGD 0.788871 Singapore "
   ]
  },
  {
   "cell_type": "code",
   "execution_count": 15,
   "id": "c7e60c84-7cf1-4ada-a1c7-61a3cdce37bb",
   "metadata": {},
   "outputs": [
    {
     "name": "stdout",
     "output_type": "stream",
     "text": [
      "Currency file not found\n",
      "Currency file not found\n"
     ]
    }
   ],
   "source": [
    "def curconv(currency, amount):\n",
    "    try:\n",
    "        with open('currencies.txt', 'r') as file:\n",
    "            for line in file:\n",
    "                parts = line.split()\n",
    "                if len(parts) == 2:\n",
    "                    if parts[0] == currency:\n",
    "                        return amount * float(parts[1])\n",
    "        return \"Currency not found\"\n",
    "    except FileNotFoundError:\n",
    "        return \"Currency file not found\"\n",
    "    except ValueError:\n",
    "        return \"Invalid data format in currency file\"\n",
    "\n",
    "print(curconv('EUR', 100))\n",
    "print(curconv('JPY', 100))  \n"
   ]
  },
  {
   "cell_type": "markdown",
   "id": "37953415-9071-4056-9ee5-98e38434342c",
   "metadata": {},
   "source": [
    "### 9) Trying to add incompatible variables, as in\r\n",
    "adding 6 + ‘a’\r\n",
    "Referring to the 12th item of a list that has only 10\r\n",
    "items\r\n",
    "Using a value that is out of range for a function’s\r\n",
    "input, such as calling math.sqrt(-1.0)\r\n",
    "Using an undeclared variable, such as print(x)\r\n",
    "when x has not been defined\r\n",
    "Trying to open a file that does not exist, such as\r\n",
    "mistyping the file name or looking in the wrong\r\n",
    "directory. "
   ]
  },
  {
   "cell_type": "code",
   "execution_count": null,
   "id": "39491fff-6696-4fa4-b191-7715b3e7097b",
   "metadata": {},
   "outputs": [],
   "source": [
    "1. Trying to add incompatible variables, as in adding 6 + ‘a’`=TypeError exception.\n",
    "\n",
    "2. Referring to the 12th item of a list that has only 10 items =IndexError exception.\n",
    "\n",
    "3. Using a value that is out of range for a function’s input, such as calling math.sqrt(-1.0)= a ValueError exception.\n",
    "\n",
    "4. Using an undeclared variable, such as print(x) when x has not been defined = NameError exception.\n",
    "    \n",
    "5. Trying to open a file that does not exist, such as mistyping the file name or looking in the wrong directory= FileNotFoundError exception."
   ]
  },
  {
   "cell_type": "markdown",
   "id": "1967be57-5e60-4a33-9731-c52e9bc227b0",
   "metadata": {},
   "source": [
    "### 10) \r\n",
    "Encryption is the process of hiding the meaning of a text by substituting letters in the\r\n",
    "message with other letters, according to some system. If the process is successful, no\r\n",
    "one but the intended recipient can understand the encrypted message. Cryptanalysis\r\n",
    "refers to attempts to undo the encryption, even if some details of the encryption are\r\n",
    "unknown (for example, if an encrypted message has been intercepted). The first step\r\n",
    "of cryptanalysis is often to build up a table of letter frequencies in the encrypted text.\r\n",
    "Assume that the string letters is already defined as\r\n",
    "'abcdefghijklmnopqrstuvwxyz'. Write a function called frequencies()\r\n",
    "that takes a string as its only parameter, and returns a list of integers, showing the\r\n",
    "number of times each character appears in the text. Your function may ignore any\r\n",
    "characters that are not in letters.\r\n",
    ">>> frequencies('The quick red fox got bored and went home.')\r\n",
    "[1, 1, 1, 3, 5, 1, 1, 2, 1, 0, 1, 0, 1, 2, 4, 0, 1, 2, 0, 2,\r\n",
    "1, 0, 1, 1, 0, 0]\r\n",
    ">>> frequencies('apple')"
   ]
  },
  {
   "cell_type": "code",
   "execution_count": 1,
   "id": "e323b27e-c3f4-4aa3-969b-97bc043c4de3",
   "metadata": {},
   "outputs": [
    {
     "name": "stdout",
     "output_type": "stream",
     "text": [
      "[1, 1, 1, 3, 5, 1, 1, 2, 1, 0, 1, 0, 1, 2, 4, 0, 1, 2, 0, 3, 1, 0, 1, 1, 0, 0]\n",
      "[1, 0, 0, 0, 1, 0, 0, 0, 0, 0, 0, 1, 0, 0, 0, 2, 0, 0, 0, 0, 0, 0, 0, 0, 0, 0]\n"
     ]
    }
   ],
   "source": [
    "def frequencies(text):\n",
    "    letters = 'abcdefghijklmnopqrstuvwxyz'\n",
    "    freq_dict = {char: 0 for char in letters}\n",
    "    \n",
    "    for char in text:\n",
    "        char = char.lower()\n",
    "        if char in letters:\n",
    "            freq_dict[char] += 1\n",
    "    \n",
    "\n",
    "    return list(freq_dict.values())\n",
    "\n",
    "print(frequencies('The quick red fox got bored and went home.'))\n",
    "print(frequencies('apple'))\n"
   ]
  },
  {
   "cell_type": "code",
   "execution_count": null,
   "id": "345b77fd-9717-4120-b209-b97d9e2b42ad",
   "metadata": {},
   "outputs": [],
   "source": []
  }
 ],
 "metadata": {
  "kernelspec": {
   "display_name": "Python 3 (ipykernel)",
   "language": "python",
   "name": "python3"
  },
  "language_info": {
   "codemirror_mode": {
    "name": "ipython",
    "version": 3
   },
   "file_extension": ".py",
   "mimetype": "text/x-python",
   "name": "python",
   "nbconvert_exporter": "python",
   "pygments_lexer": "ipython3",
   "version": "3.11.7"
  }
 },
 "nbformat": 4,
 "nbformat_minor": 5
}
